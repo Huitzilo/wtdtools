{
 "cells": [
  {
   "cell_type": "markdown",
   "metadata": {},
   "source": [
    "# WTDtools\n",
    "\n",
    "Tools to read the windtunnel data from a paper by Alex Vergara and colleagues [1]. The data is available from the [UCI Machine Learning Repository](https://archive.ics.uci.edu/ml/datasets/Gas+sensor+arrays+in+open+sampling+settings) ([Direct link](https://archive.ics.uci.edu/ml/machine-learning-databases/00251/WTD_upload.zip)).\n",
    "\n",
    "Please download and unzip the data and put it in the top-level directory of the repository.\n",
    "\n",
    "[1] Alexander Vergara, Jordi Fonollosa, Jonas Mahiques, Marco Trincavelli, Nikolai Rulkov, Ramón Huerta, On the performance of gas sensor arrays in open sampling systems using Inhibitory Support Vector Machines, Sensors and Actuators B: Chemical, Available online 18 May 2013, ISSN 0925-4005, 10.1016/j.snb.2013.05.027.\n",
    "http://www.sciencedirect.com/science/article/pii/S092540051300590X\n",
    "\n",
    "---\n",
    "\n"
   ]
  },
  {
   "cell_type": "code",
   "execution_count": 3,
   "metadata": {},
   "outputs": [],
   "source": [
    "import sys\n",
    "import os\n",
    "\n",
    "sys.path.append(os.path.realpath(os.path.curdir))\n",
    "from WTDtools.utils import ZipFileDataSelector\n",
    "datapath = os.path.join(os.path.realpath(os.path.join(os.path.pardir, os.path.pardir)), 'Windtunnel', \"WTD_upload.zip\")\n",
    "rem_dupes = True  # Drop duplicate timestamps\n",
    "resample = True   # Signal resampling active\n",
    "data = ZipFileDataSelector(datapath, drop_duplicates = rem_dupes, resample = resample, verbose = False)"
   ]
  },
  {
   "cell_type": "markdown",
   "metadata": {},
   "source": [
    "---\n",
    "\n",
    "**(3)** Let's proceed with loading some data by calling `DataSelectors select()` method.\n",
    "\n",
    "The `select()` method takes five input arguments:\n",
    "\n",
    "+ Gas name / concentration (`gas`)\n",
    "+ Distance from gas inlet (`loc`)\n",
    "+ Voltage applied to sensors (`voltage`)\n",
    "+ Exhaust fan speed (`speed`)\n",
    "+ Trial number (`trial`)\n",
    "\n",
    "`DataSelector` holds *dicts* whose values correspond with the experimental parameters explained above.\n",
    "We'll use **the keys** as input parameters for the `select()` method.\n",
    "\n",
    "**Note:** Dictionary keys start with *1*, instead of *0*. You can pass both *ints* and *arrays of ints*. \n"
   ]
  },
  {
   "cell_type": "code",
   "execution_count": 4,
   "metadata": {},
   "outputs": [],
   "source": [
    "gas = 7   # CO, 4000ppm\n",
    "loc = 4   # 1.18m from source\n",
    "volt = 5  # 6V sensor heating\n",
    "speed = 1 # 1500rpm fan speed\n",
    "trial = 5\n",
    "\n",
    "column = data.select(gas = gas, loc = loc, voltage = volt, speed = speed, trial = trial)"
   ]
  },
  {
   "cell_type": "markdown",
   "metadata": {},
   "source": [
    "---\n",
    "\n",
    "**(4)** Now that we have the data in memory, let's take a closer look at it.\n",
    "\n",
    "In the above block, we have loaded a single `SensorColumn`. \n",
    "\n",
    "Every column holds **nine** `SensorBoard` instances, each holding **eight** `Sensor` instances.\n"
   ]
  },
  {
   "cell_type": "code",
   "execution_count": 5,
   "metadata": {},
   "outputs": [
    {
     "name": "stdout",
     "output_type": "stream",
     "text": [
      "\n",
      "\n",
      "  Column L4\n",
      "\n",
      "\n",
      "############################################################\n",
      "\n",
      "  Board 1:\n",
      "\n",
      "> Sensor 1 |  Mean: 579  | Var: 1.525667  | Min: 566  | Max: 583\n",
      "> Sensor 2 |  Mean: 708  | Var: 3.028788  | Min: 701  | Max: 713\n",
      "> Sensor 3 |  Mean: 941  | Var: 2.746840  | Min: 938  | Max: 945\n",
      "> Sensor 4 |  Mean: 516  | Var: 3.105463  | Min: 513  | Max: 521\n",
      "> Sensor 5 |  Mean: 775  | Var: 3.312651  | Min: 772  | Max: 782\n",
      "> Sensor 6 |  Mean: 878  | Var: 2.993679  | Min: 875  | Max: 885\n",
      "> Sensor 7 |  Mean: 836  | Var: 1.137855  | Min: 834  | Max: 841\n",
      "> Sensor 8 |  Mean: 810  | Var: 0.573360  | Min: 809  | Max: 814                     \n",
      "\n",
      "Min.: 513 Ohm (Sensor 4)\tMax.: 945 Ohm (Sensor 3)\tMax. Variance: 3 (Sensor 5)\n",
      "\n",
      "\n",
      "############################################################\n",
      "\n",
      "  Board 2:\n",
      "\n",
      "> Sensor 1 |  Mean: 396  | Var: 1.409855  | Min: 393  | Max: 398\n",
      "> Sensor 2 |  Mean: 658  | Var: 1.753764  | Min: 654  | Max: 661\n",
      "> Sensor 3 |  Mean: 720  | Var: 2.789370  | Min: 716  | Max: 724\n",
      "> Sensor 4 |  Mean: 765  | Var: 22.994420  | Min: 753  | Max: 776\n",
      "> Sensor 5 |  Mean: 539  | Var: 1.032000  | Min: 538  | Max: 543\n",
      "> Sensor 6 |  Mean: 522  | Var: 0.330173  | Min: 521  | Max: 525\n",
      "> Sensor 7 |  Mean: 743  | Var: 3.036650  | Min: 740  | Max: 749\n",
      "> Sensor 8 |  Mean: 724  | Var: 0.519900  | Min: 722  | Max: 728                     \n",
      "\n",
      "Min.: 393 Ohm (Sensor 1)\tMax.: 776 Ohm (Sensor 4)\tMax. Variance: 22 (Sensor 4)\n",
      "\n",
      "\n",
      "############################################################\n",
      "\n",
      "  Board 3:\n",
      "\n",
      "> Sensor 1 |  Mean: 458  | Var: 2.276532  | Min: 456  | Max: 467\n",
      "> Sensor 2 |  Mean: 605  | Var: 2.495864  | Min: 602  | Max: 612\n",
      "> Sensor 3 |  Mean: 755  | Var: 2.070773  | Min: 753  | Max: 760\n",
      "> Sensor 4 |  Mean: 802  | Var: 44.076610  | Min: 795  | Max: 828\n",
      "> Sensor 5 |  Mean: 741  | Var: 3.493309  | Min: 739  | Max: 754\n",
      "> Sensor 6 |  Mean: 721  | Var: 2.558959  | Min: 719  | Max: 728\n",
      "> Sensor 7 |  Mean: 711  | Var: 1.054361  | Min: 709  | Max: 716\n",
      "> Sensor 8 |  Mean: 627  | Var: 0.488280  | Min: 626  | Max: 631                     \n",
      "\n",
      "Min.: 456 Ohm (Sensor 1)\tMax.: 828 Ohm (Sensor 4)\tMax. Variance: 44 (Sensor 4)\n",
      "\n",
      "\n",
      "############################################################\n",
      "\n",
      "  Board 4:\n",
      "\n",
      "> Sensor 1 |  Mean: 512  | Var: 254.159262  | Min: 482  | Max: 532\n",
      "> Sensor 2 |  Mean: 643  | Var: 157.566658  | Min: 618  | Max: 659\n",
      "> Sensor 3 |  Mean: 657  | Var: 543.775626  | Min: 614  | Max: 686\n",
      "> Sensor 4 |  Mean: 882  | Var: 9265.948681  | Min: 722  | Max: 987\n",
      "> Sensor 5 |  Mean: 606  | Var: 6746.067290  | Min: 461  | Max: 698\n",
      "> Sensor 6 |  Mean: 780  | Var: 9724.612451  | Min: 606  | Max: 884\n",
      "> Sensor 7 |  Mean: 800  | Var: 7830.070015  | Min: 649  | Max: 949\n",
      "> Sensor 8 |  Mean: 805  | Var: 8404.646447  | Min: 646  | Max: 944                     \n",
      "\n",
      "Min.: 461 Ohm (Sensor 5)\tMax.: 987 Ohm (Sensor 4)\tMax. Variance: 9724 (Sensor 6)\n",
      "\n",
      "\n",
      "############################################################\n",
      "\n",
      "  Board 5:\n",
      "\n",
      "> Sensor 1 |  Mean: 2162  | Var: 6686.285892  | Min: 1926  | Max: 2342 -> Invalid!\n",
      "> Sensor 2 |  Mean: 562  | Var: 64.230694  | Min: 540  | Max: 581\n",
      "> Sensor 3 |  Mean: 708  | Var: 1079.635217  | Min: 656  | Max: 775\n",
      "> Sensor 4 |  Mean: 614  | Var: 3487.369177  | Min: 525  | Max: 734\n",
      "> Sensor 5 |  Mean: 782  | Var: 7745.918286  | Min: 641  | Max: 902\n",
      "> Sensor 6 |  Mean: 631  | Var: 4302.092498  | Min: 527  | Max: 730\n",
      "> Sensor 7 |  Mean: 783  | Var: 11364.198728  | Min: 606  | Max: 922\n",
      "> Sensor 8 |  Mean: 686  | Var: 11052.661968  | Min: 514  | Max: 831                     \n",
      "\n",
      "Min.: 514 Ohm (Sensor 7)\tMax.: 922 Ohm (Sensor 6)\tMax. Variance: 11364 (Sensor 7)\n",
      "\n",
      "\n",
      "############################################################\n",
      "\n",
      "  Board 6:\n",
      "\n",
      "> Sensor 1 |  Mean: 403  | Var: 6.754334  | Min: 400  | Max: 418\n",
      "> Sensor 2 |  Mean: 532  | Var: 5.115039  | Min: 528  | Max: 543\n",
      "> Sensor 3 |  Mean: 697  | Var: 62.924914  | Min: 684  | Max: 747\n",
      "> Sensor 4 |  Mean: 623  | Var: 109.560116  | Min: 607  | Max: 649\n",
      "> Sensor 5 |  Mean: 724  | Var: 147.700128  | Min: 703  | Max: 777\n",
      "> Sensor 6 |  Mean: 742  | Var: 213.771860  | Min: 726  | Max: 802\n",
      "> Sensor 7 |  Mean: 824  | Var: 560.985327  | Min: 793  | Max: 915\n",
      "> Sensor 8 |  Mean: 778  | Var: 433.101246  | Min: 754  | Max: 865                     \n",
      "\n",
      "Min.: 400 Ohm (Sensor 1)\tMax.: 915 Ohm (Sensor 7)\tMax. Variance: 560 (Sensor 7)\n",
      "\n",
      "\n",
      "############################################################\n",
      "\n",
      "  Board 7:\n",
      "\n",
      "> Sensor 1 |  Mean: 376  | Var: 0.547723  | Min: 374  | Max: 380\n",
      "> Sensor 2 |  Mean: 531  | Var: 1.287847  | Min: 528  | Max: 535\n",
      "> Sensor 3 |  Mean: 650  | Var: 1.502224  | Min: 637  | Max: 654\n",
      "> Sensor 4 |  Mean: 646  | Var: 53.948783  | Min: 633  | Max: 669\n",
      "> Sensor 5 |  Mean: 728  | Var: 7.824361  | Min: 724  | Max: 740\n",
      "> Sensor 6 |  Mean: 672  | Var: 3.450133  | Min: 669  | Max: 678\n",
      "> Sensor 7 |  Mean: 730  | Var: 10.169028  | Min: 726  | Max: 743\n",
      "> Sensor 8 |  Mean: 778  | Var: 8.849133  | Min: 774  | Max: 790                     \n",
      "\n",
      "Min.: 374 Ohm (Sensor 1)\tMax.: 790 Ohm (Sensor 8)\tMax. Variance: 53 (Sensor 4)\n",
      "\n",
      "\n",
      "############################################################\n",
      "\n",
      "  Board 8:\n",
      "\n",
      "> Sensor 1 |  Mean: 393  | Var: 0.645560  | Min: 392  | Max: 396\n",
      "> Sensor 2 |  Mean: 479  | Var: 0.962238  | Min: 475  | Max: 483\n",
      "> Sensor 3 |  Mean: 539  | Var: 1.662121  | Min: 536  | Max: 543\n",
      "> Sensor 4 |  Mean: 858  | Var: 15.795197  | Min: 848  | Max: 872\n",
      "> Sensor 5 |  Mean: 760  | Var: 9.257277  | Min: 756  | Max: 769\n",
      "> Sensor 6 |  Mean: 665  | Var: 3.429810  | Min: 662  | Max: 672\n",
      "> Sensor 7 |  Mean: 708  | Var: 2.365107  | Min: 706  | Max: 714\n",
      "> Sensor 8 |  Mean: 684  | Var: 0.959912  | Min: 682  | Max: 688                     \n",
      "\n",
      "Min.: 392 Ohm (Sensor 1)\tMax.: 872 Ohm (Sensor 4)\tMax. Variance: 15 (Sensor 4)                     \n",
      "\n",
      "\n",
      "                     Min. Resistance:\t\t374 Ohm (Sensor 1, Board 7)\n",
      "                     Max. Resistance:\t\t987 Ohm (Sensor 4, Board 4)\n",
      "                     Max. Variance:\t\t11364 Ohm (Sensor 7, Board 5 )\n",
      "                     Max. Average:\t\t2162 Ohm (Sensor 1, Board 5)\n",
      "                     Sampling Rate:\t\t100.000000 Hz\n"
     ]
    }
   ],
   "source": [
    "print(column[0])"
   ]
  },
  {
   "cell_type": "markdown",
   "metadata": {},
   "source": [
    "**Note:** You can print `SensorColumn`, `SensorBoard` & `Sensor` objects to get a short description about the data present.\n"
   ]
  },
  {
   "cell_type": "code",
   "execution_count": 5,
   "metadata": {},
   "outputs": [
    {
     "data": {
      "text/plain": [
       "(4, 4, 987.0000000000001)"
      ]
     },
     "execution_count": 5,
     "metadata": {},
     "output_type": "execute_result"
    }
   ],
   "source": [
    "column[0].get_max()               # Column maximum (BoardNum, SensorNum, MaxValue)"
   ]
  },
  {
   "cell_type": "code",
   "execution_count": 6,
   "metadata": {},
   "outputs": [
    {
     "data": {
      "text/plain": [
       "(4, 987.0000000000001)"
      ]
     },
     "execution_count": 6,
     "metadata": {},
     "output_type": "execute_result"
    }
   ],
   "source": [
    "column[0].Board4.get_max          # Board maximum (SensorNum, MaxValue)"
   ]
  },
  {
   "cell_type": "code",
   "execution_count": 7,
   "metadata": {},
   "outputs": [
    {
     "data": {
      "text/plain": [
       "10.0        722.0\n",
       "20.0        722.0\n",
       "30.0        722.0\n",
       "40.0        722.0\n",
       "50.0        722.0\n",
       "            ...  \n",
       "259960.0    844.0\n",
       "259970.0    844.0\n",
       "259980.0    844.0\n",
       "259990.0    844.0\n",
       "260000.0    844.0\n",
       "Name: B4S4, Length: 26000, dtype: float64"
      ]
     },
     "execution_count": 7,
     "metadata": {},
     "output_type": "execute_result"
    }
   ],
   "source": [
    "column[0].Board4.Sensor4.get_data()  # Sensor response"
   ]
  },
  {
   "cell_type": "code",
   "execution_count": null,
   "metadata": {},
   "outputs": [],
   "source": []
  }
 ],
 "metadata": {
  "kernelspec": {
   "display_name": "Python 3",
   "language": "python",
   "name": "python3"
  },
  "language_info": {
   "codemirror_mode": {
    "name": "ipython",
    "version": 3
   },
   "file_extension": ".py",
   "mimetype": "text/x-python",
   "name": "python",
   "nbconvert_exporter": "python",
   "pygments_lexer": "ipython3",
   "version": "3.6.6"
  }
 },
 "nbformat": 4,
 "nbformat_minor": 1
}
